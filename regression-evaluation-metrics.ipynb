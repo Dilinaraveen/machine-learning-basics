{
 "cells": [
  {
   "cell_type": "code",
   "execution_count": 1,
   "id": "0e280d85-47b7-46b3-8276-6f1f45609ddd",
   "metadata": {},
   "outputs": [],
   "source": [
    "import numpy as np\n",
    "import pandas as pd"
   ]
  },
  {
   "cell_type": "code",
   "execution_count": 2,
   "id": "101cef05-3e78-4eb8-b40c-1fa2699f2ace",
   "metadata": {},
   "outputs": [],
   "source": [
    "df = pd.DataFrame({\n",
    "    'hours':[8,11,9,5,7.5,9.5,10,7,9,9.5,8,10.5,9,6.5,9],\n",
    "    'score':[56,70,51,24,30,66,48,36,42,61,39,87,73,48,46]\n",
    "}) "
   ]
  },
  {
   "cell_type": "code",
   "execution_count": 4,
   "id": "735eb964-f08b-449d-bb4e-e4d8b158fb88",
   "metadata": {},
   "outputs": [
    {
     "data": {
      "text/html": [
       "<div>\n",
       "<style scoped>\n",
       "    .dataframe tbody tr th:only-of-type {\n",
       "        vertical-align: middle;\n",
       "    }\n",
       "\n",
       "    .dataframe tbody tr th {\n",
       "        vertical-align: top;\n",
       "    }\n",
       "\n",
       "    .dataframe thead th {\n",
       "        text-align: right;\n",
       "    }\n",
       "</style>\n",
       "<table border=\"1\" class=\"dataframe\">\n",
       "  <thead>\n",
       "    <tr style=\"text-align: right;\">\n",
       "      <th></th>\n",
       "      <th>hours</th>\n",
       "      <th>score</th>\n",
       "    </tr>\n",
       "  </thead>\n",
       "  <tbody>\n",
       "    <tr>\n",
       "      <th>0</th>\n",
       "      <td>8.0</td>\n",
       "      <td>56</td>\n",
       "    </tr>\n",
       "    <tr>\n",
       "      <th>1</th>\n",
       "      <td>11.0</td>\n",
       "      <td>70</td>\n",
       "    </tr>\n",
       "    <tr>\n",
       "      <th>2</th>\n",
       "      <td>9.0</td>\n",
       "      <td>51</td>\n",
       "    </tr>\n",
       "    <tr>\n",
       "      <th>3</th>\n",
       "      <td>5.0</td>\n",
       "      <td>24</td>\n",
       "    </tr>\n",
       "    <tr>\n",
       "      <th>4</th>\n",
       "      <td>7.5</td>\n",
       "      <td>30</td>\n",
       "    </tr>\n",
       "  </tbody>\n",
       "</table>\n",
       "</div>"
      ],
      "text/plain": [
       "   hours  score\n",
       "0    8.0     56\n",
       "1   11.0     70\n",
       "2    9.0     51\n",
       "3    5.0     24\n",
       "4    7.5     30"
      ]
     },
     "execution_count": 4,
     "metadata": {},
     "output_type": "execute_result"
    }
   ],
   "source": [
    "df.head()"
   ]
  },
  {
   "cell_type": "code",
   "execution_count": 3,
   "id": "9cce285e-31c6-4a5d-afbd-f83c8cb33b7f",
   "metadata": {},
   "outputs": [],
   "source": [
    "y = np.array(df.score.values)"
   ]
  },
  {
   "cell_type": "code",
   "execution_count": 6,
   "id": "a6748420-990f-4fdb-a0a9-3816a724ad71",
   "metadata": {},
   "outputs": [],
   "source": [
    "y_pred = 8* df.hours.values - 15"
   ]
  },
  {
   "cell_type": "markdown",
   "id": "cd7820c8-2e38-4a4c-84c7-9615d5336c65",
   "metadata": {},
   "source": [
    "## Root Mean Squared Error (MAE)"
   ]
  },
  {
   "cell_type": "code",
   "execution_count": 10,
   "id": "be41b156-141f-4b40-810d-84d5d837aa51",
   "metadata": {},
   "outputs": [
    {
     "name": "stdout",
     "output_type": "stream",
     "text": [
      "Mean Absolute Error: 9.333333333333334\n"
     ]
    }
   ],
   "source": [
    "from sklearn.metrics import mean_absolute_error\n",
    "mae = mean_absolute_error(y,y_pred)\n",
    "print(f\"Mean Absolute Error: {mae}\") "
   ]
  },
  {
   "cell_type": "markdown",
   "id": "68b16512-0203-40a5-9ed8-1f2787efec4d",
   "metadata": {},
   "source": [
    "## Root Mean Squared Error (RMSE)"
   ]
  },
  {
   "cell_type": "code",
   "execution_count": 12,
   "id": "585727ce-5eb1-443c-925e-56029ebc8d3f",
   "metadata": {},
   "outputs": [
    {
     "name": "stdout",
     "output_type": "stream",
     "text": [
      "Root Mean Squared Error: 10.972693379476162\n"
     ]
    }
   ],
   "source": [
    "from sklearn.metrics import root_mean_squared_error\n",
    "rmse = root_mean_squared_error(y,y_pred)\n",
    "print(f\"Root Mean Squared Error: {rmse}\")"
   ]
  },
  {
   "cell_type": "markdown",
   "id": "97a78b5a-9a9f-4a79-9686-663e6b8bc5f7",
   "metadata": {},
   "source": [
    "## R Squared"
   ]
  },
  {
   "cell_type": "code",
   "execution_count": 13,
   "id": "058d7148-18d2-41b8-b7f2-f93d56e41836",
   "metadata": {},
   "outputs": [
    {
     "name": "stdout",
     "output_type": "stream",
     "text": [
      "R2 Score: 0.5642312518096708\n"
     ]
    }
   ],
   "source": [
    "from sklearn.metrics import r2_score\n",
    "r2 = r2_score(y,y_pred)\n",
    "print(f\"R2 Score: {r2}\")"
   ]
  },
  {
   "cell_type": "code",
   "execution_count": null,
   "id": "4e2e0e39-8fc5-4f2f-9cab-2d7542bc27ef",
   "metadata": {},
   "outputs": [],
   "source": []
  }
 ],
 "metadata": {
  "kernelspec": {
   "display_name": "Python 3 (ipykernel)",
   "language": "python",
   "name": "python3"
  },
  "language_info": {
   "codemirror_mode": {
    "name": "ipython",
    "version": 3
   },
   "file_extension": ".py",
   "mimetype": "text/x-python",
   "name": "python",
   "nbconvert_exporter": "python",
   "pygments_lexer": "ipython3",
   "version": "3.12.4"
  }
 },
 "nbformat": 4,
 "nbformat_minor": 5
}
